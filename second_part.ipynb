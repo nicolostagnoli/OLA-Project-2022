{
  "nbformat": 4,
  "nbformat_minor": 0,
  "metadata": {
    "colab": {
      "name": "Copy of Complete",
      "provenance": [],
      "collapsed_sections": []
    },
    "kernelspec": {
      "name": "python3",
      "display_name": "Python 3"
    },
    "language_info": {
      "name": "python"
    }
  },
  "cells": [
    {
      "cell_type": "code",
      "source": [
        "import numpy as np"
      ],
      "metadata": {
        "id": "enyQo8q_9t3Y"
      },
      "execution_count": 1,
      "outputs": []
    },
    {
      "cell_type": "code",
      "source": [
        "class UserClass:\n",
        "\n",
        "  def __init__(self,number_of_user, alfas, num_products_bought, p_matrix ) :\n",
        "\n",
        "    self.conversion_rate_vector = np.random.uniform(0.0,1.0,(5,4))      #randomly generates the conversion rates for every price\n",
        "    self.number_of_user = number_of_user\n",
        "    self.alfas = alfas\n",
        "    self.num_products_bought = num_products_bought\n",
        "    self.p_matrix = p_matrix\n",
        "  \n",
        "class Product:\n",
        "\n",
        "    def __init__(self,id, price_vector) :\n",
        "\n",
        "      self.id = id\n",
        "      self.price_vector = price_vector\n",
        "      \n",
        "\n",
        "\n"
      ],
      "metadata": {
        "id": "g6lUjyKG6Rk7"
      },
      "execution_count": null,
      "outputs": []
    },
    {
      "cell_type": "code",
      "source": [
        "p_matrix = [[0,0,0.2,0,0],\n",
        "                [0.9,0,0,0.3,0],\n",
        "                [0.9,0.2,0,0.2,0],\n",
        "                [0.9,0,0,0,0],\n",
        "                [0,0,0,0,0]] \n",
        "num_products_bought = [2, 1, 3, 2, 5]\n",
        "userClass1 = UserClass(100, np.random.dirichlet([1, 1, 1, 1, 1]), num_products_bought, p_matrix )\n",
        "userClass2 = UserClass(200, np.random.dirichlet([1, 1, 1, 1, 1]), num_products_bought, p_matrix )\n",
        "userClass3 = UserClass(50, np.random.dirichlet([1, 1, 1, 1, 1]), num_products_bought, p_matrix )\n",
        "userClasses = [userClass1, userClass2, userClass3]\n",
        "\n",
        "price_vector = [10, 20, 30, 40]\n",
        "p1 = Product(\"p1\", price_vector )\n",
        "p2 = Product(\"p2\", price_vector )\n",
        "p3 = Product(\"p3\", price_vector )\n",
        "p4 = Product(\"p4\", price_vector )\n",
        "p5 = Product(\"p5\", price_vector )\n",
        "\n",
        "total_daily_users = userClass1.number_of_user + userClass2.number_of_user + userClass3.number_of_user\n",
        "n_episodes = 100\n",
        "\n",
        "\n",
        "optimal_prices = [p1.price_vector[0], p2.price_vector[0], p3.price_vector[0], p4.price_vector[0], p5.price_vector[0]]\n",
        "optimal_prices_index = np.zeros(5)\n",
        "best_total_revenue = 0\n",
        "\n",
        "for uc in userClasses:\n",
        "  for j in range(0, uc.number_of_user):\n",
        "    initial_product = np.random.choice(5, 1, [a for a in uc.alfas])[0]\n",
        "\n",
        "    history = simulate_episode(uc.p_matrix, 10, initial_product, 0.5)\n",
        "    \n",
        "    tot_products_bought = np.zeros(5)\n",
        "\n",
        "    for row in history:\n",
        "      tot_products_bought +=  row\n",
        "\n",
        "    tot_products_bought *= uc.num_products_bought\n",
        "    revenue_per_user = np.sum(tot_products_bought*optimal_prices)\n",
        "    best_total_revenue += revenue_per_user\n",
        "\n",
        "for i in range(0, 5):\n",
        "  total_revenue = 0\n",
        "  temp_price_index = optimal_prices_index\n",
        "  temp_price_index[i] += 1\n",
        "  temp_optimal_prices = [p1.price_vector[temp_price_index[0]], p2.price_vector[temp_price_index[1]], p3.price_vector[temp_price_index[2]],\n",
        "                         p4.price_vector[temp_price_index[3]], p5.price_vector[temp_price_index[4]]]\n",
        "\n",
        "    \n",
        "    \n",
        "\n",
        "  \n",
        "\n",
        "\n",
        "\n",
        "\n",
        "\n",
        "\n",
        "\n",
        "\n",
        "\n",
        "\n",
        "\n",
        "\n",
        "\n",
        "\n",
        "\n",
        "\n",
        "\n",
        "\n"
      ],
      "metadata": {
        "id": "LwbF1nhfupNY"
      },
      "execution_count": null,
      "outputs": []
    },
    {
      "cell_type": "code",
      "source": [
        ""
      ],
      "metadata": {
        "id": "JyTRtf3uupLl"
      },
      "execution_count": null,
      "outputs": []
    },
    {
      "cell_type": "code",
      "source": [
        ""
      ],
      "metadata": {
        "id": "b_Tl67gTuoaf"
      },
      "execution_count": null,
      "outputs": []
    },
    {
      "cell_type": "code",
      "source": [
        "class GreedyAlgorithm:\n",
        "\n",
        "  def buy_or_not( self, active_nodes, userClass, prices):\n",
        "\n",
        "    buy_or_not_nodes = np.zeros(5)\n",
        "    i = 0\n",
        "    for node in active_nodes : \n",
        "      if ( node == 1 & i == 0):\n",
        "        product = \"p1\"\n",
        "        price = userClass.conversion_rate[\"p1\"]\n",
        "      if ( node == 1 & i == 1):\n",
        "        product = \"p2\"\n",
        "        price = userClass.conversion_rate[\"p2\"]\n",
        "      if ( node == 1 & i == 2):\n",
        "        product = \"p3\"\n",
        "        price = userClass.conversion_rate[\"p3\"]\n",
        "      if ( node == 1 & i == 3):\n",
        "        product = \"p4\"\n",
        "        price = userClass.conversion_rate[\"p4\"]\n",
        "      if ( node == 1 & i == 4):\n",
        "        product = \"p5\"\n",
        "        price = userClass.conversion_rate[\"p5\"]\n",
        "\n",
        "      conv_rate = userClass.conversion_rate[product][price]\n",
        "      if (conv_rate > np.random.uniform() & node ==1):\n",
        "        buy_or_not_nodes[i] = 1\n",
        "      else :\n",
        "        buy_or_not_nodes[i] = 0\n",
        "\n",
        "      i=i +1\n",
        "    return buy_or_not_nodes\n",
        "\n",
        "    def iterator (self):\n",
        "\n",
        "      #start with lowest price\n",
        "      for \n",
        "\n",
        "\n",
        "\n"
      ],
      "metadata": {
        "id": "ZjnJQT9X9tNZ"
      },
      "execution_count": null,
      "outputs": []
    },
    {
      "cell_type": "code",
      "source": [
        "from IPython.core.display import ProgressBar\n",
        "import numpy as np\n",
        "from copy import copy\n",
        "\n",
        "def simulate_episode(init_prob_matrix, n_steps_max, initial_product, lambd):\n",
        "    prob_matrix = init_prob_matrix.copy()\n",
        "    n_nodes = prob_matrix.shape[0]\n",
        "    initial_active_nodes = np.zeros(5, dtype=int)\n",
        "    initial_active_nodes[initial_product] = 1\n",
        "    history = np.array([initial_active_nodes])\n",
        "    active_nodes = initial_active_nodes\n",
        "    newly_active_nodes = active_nodes\n",
        "    t=0\n",
        "\n",
        "\n",
        "    while(t < n_steps_max and np.sum(newly_active_nodes) > 0):\n",
        "        #print(\"giro \", t)\n",
        "        #print(prob_matrix)\n",
        "\n",
        "        buy_or_not_nodes = buy_or_not( active_nodes, userClass, product_indx, price) \n",
        "        p = (prob_matrix.T * buy_or_not_nodes).T\n",
        "\n",
        "        #print(\"p matrix : \\n\", p)\n",
        "        #p is used to select from the prob matrix only the rows with active nodes  (.T compute the transpose)... returns the set of probabilities corresponding to the edges leaving from an active_node\n",
        "        lambda_vector = np.zeros(n_nodes)\n",
        "        lambda_matrix = np.zeros(shape = (n_nodes, n_nodes))\n",
        "        for i in range(0, n_nodes):\n",
        "            idx1 = -1\n",
        "            idx2 = -1\n",
        "            lambda_vector = np.zeros(5)\n",
        "            while(idx1 == idx2 or idx1 == i or idx2 == i):\n",
        "                [idx1, idx2] = np.random.choice(5, 2)\n",
        "            lambda_vector[idx1] = 1\n",
        "            lambda_vector[idx2] = lambd\n",
        "            lambda_matrix[i] = lambda_vector\n",
        "        #lambda matrix has primary products on the rows, secondary on the columns, 1 if the secondary is in the first slot, lambda otherwise \n",
        "        #print(\"lambda matrix : \\n\", lambda_matrix)\n",
        "        p = (p * lambda_matrix)\n",
        "        #print(\"p after lambda vec : \\n\", p)\n",
        "        activated_edges = p > np.random.rand(p.shape[0], p.shape[1])\n",
        "        #print(\"activated edges : \\n\", activated_edges)\n",
        "        prob_matrix = prob_matrix * ((p!=0) == activated_edges)\n",
        "        newly_active_nodes = (np.sum(activated_edges, axis=0) > 0) * (1 - active_nodes)\n",
        "        active_nodes = np.array(active_nodes + newly_active_nodes)\n",
        "        #print(\"active nodes at t+1: \\n\", active_nodes)\n",
        "        history = np.concatenate((history, [newly_active_nodes]), axis = 0)\n",
        "        #print(\"history : \\n\", history)\n",
        "        t += 1\n",
        "\n",
        "        #all edges leaving from the node that didn't buy go to 0 \n",
        "    return history\n",
        "    \n",
        "\n",
        "n_nodes = 5\n",
        "n_episodes = 1000\n",
        "\n",
        "\n",
        "#prob_matrix = np.random.uniform(0.0, 1.0, (n_nodes, n_nodes))\n",
        "\n",
        "prob_matrix = [[0,0,0.2,0,0],\n",
        "                [0.9,0,0,0.3,0],\n",
        "                [0.9,0.2,0,0.2,0],\n",
        "                [0.9,0,0,0,0],\n",
        "                [0,0,0,0,0]] \n",
        "prob_matrix = np.reshape(prob_matrix, (5,5))\n",
        "#print(\"prob_matrix:\", prob_matrix)\n",
        "for i in range(0, n_nodes):\n",
        "    prob_matrix[i][i] = 0\n",
        "alphas = np.random.dirichlet([1, 1, 1, 1, 1])\n",
        "node_index = 1\n",
        "lambd = 0.5\n",
        "dataset = []\n",
        "\n",
        "for e in range(0, n_episodes):\n",
        "    #print(\"EPISODE:  \", e)\n",
        "    initial_product = np.random.choice(5, 1, [a for a in alphas])[0]\n",
        "    #print( \"initial product (aka starting node):\", initial_product)\n",
        "    dataset.append(simulate_episode(init_prob_matrix = prob_matrix, n_steps_max=3, initial_product = initial_product, lambd=lambd))\n",
        "    #print( \"dataset: \", dataset)\n",
        "#print( \"dataset: \", dataset)\n",
        "\n",
        "\n",
        "\n",
        "#vector that will contain in every cell the prob of visiting such a product\n",
        "nodes_visit_prob = np.zeros(5)\n",
        "for episode in dataset:\n",
        "\n",
        "  for row in episode:\n",
        "      active_idx = np.where( row == 1)\n",
        "      #print(\"active_idx:\", active_idx)\n",
        "      for i in active_idx:\n",
        "        nodes_visit_prob[i] = nodes_visit_prob[i]+1\n",
        "print( \"nodes_visits \", nodes_visit_prob)       \n",
        "for n in range(0, n_nodes):\n",
        "  nodes_visit_prob[n] = nodes_visit_prob[n]/ n_episodes\n",
        "print( \"nodes_visit_prob: \", nodes_visit_prob)\n",
        "\n",
        "\n",
        "#print(\"True P Matrix: \\n\", prob_matrix)\n",
        "#print(\"Estimated P Matrix: \\n\", estimated_matrix)"
      ],
      "metadata": {
        "id": "6m1GZKuR6RgO"
      },
      "execution_count": null,
      "outputs": []
    },
    {
      "cell_type": "code",
      "source": [
        ""
      ],
      "metadata": {
        "id": "2Vd7uH8j6Rdr"
      },
      "execution_count": null,
      "outputs": []
    },
    {
      "cell_type": "code",
      "source": [
        ""
      ],
      "metadata": {
        "id": "RC4hUccE6Rbm"
      },
      "execution_count": null,
      "outputs": []
    },
    {
      "cell_type": "code",
      "source": [
        ""
      ],
      "metadata": {
        "id": "wOqeexjF6RY9"
      },
      "execution_count": null,
      "outputs": []
    },
    {
      "cell_type": "code",
      "source": [
        ""
      ],
      "metadata": {
        "id": "h9YHZ6ZN6RVz"
      },
      "execution_count": null,
      "outputs": []
    },
    {
      "cell_type": "code",
      "source": [
        ""
      ],
      "metadata": {
        "id": "E4ahvWgo6RTA"
      },
      "execution_count": null,
      "outputs": []
    },
    {
      "cell_type": "code",
      "source": [
        ""
      ],
      "metadata": {
        "id": "9lKVrW1M6RQ8"
      },
      "execution_count": null,
      "outputs": []
    },
    {
      "cell_type": "code",
      "source": [
        ""
      ],
      "metadata": {
        "id": "hxajw_5k6RN_"
      },
      "execution_count": null,
      "outputs": []
    },
    {
      "cell_type": "code",
      "source": [
        ""
      ],
      "metadata": {
        "id": "1Lv9vMWQ6RLr"
      },
      "execution_count": null,
      "outputs": []
    },
    {
      "cell_type": "code",
      "source": [
        ""
      ],
      "metadata": {
        "id": "NhKVQZOv6RJH"
      },
      "execution_count": null,
      "outputs": []
    },
    {
      "cell_type": "code",
      "source": [
        ""
      ],
      "metadata": {
        "id": "nrSI9BPk6RGb"
      },
      "execution_count": null,
      "outputs": []
    },
    {
      "cell_type": "code",
      "source": [
        ""
      ],
      "metadata": {
        "id": "mXnL6gmK6RDm"
      },
      "execution_count": null,
      "outputs": []
    },
    {
      "cell_type": "code",
      "source": [
        ""
      ],
      "metadata": {
        "id": "2qV8r8xS6Q0C"
      },
      "execution_count": null,
      "outputs": []
    },
    {
      "cell_type": "code",
      "execution_count": null,
      "metadata": {
        "id": "hHOx3xxh4rI8"
      },
      "outputs": [],
      "source": [
        "import numpy as np\n",
        "import matplotlib.pyplot as plt"
      ]
    },
    {
      "cell_type": "code",
      "source": [
        "class Learner:\n",
        "\n",
        "  def __init__(self, n_arms) :\n",
        "    self.n_arms = n_arms\n",
        "    self.t = 0\n",
        "    self.rewards_per_arm = x = [[] for i in range(n_arms)]\n",
        "    self.collected_rewards = np.array([])\n",
        "\n",
        "  def update_observations(self,pulled_arm, reward) :\n",
        "    self.rewards_per_arm[pulled_arm].append(reward)\n",
        "    self.collected_rewards = np.append(self.collected_rewards, reward)"
      ],
      "metadata": {
        "id": "Gt0MlEbY4z_H"
      },
      "execution_count": null,
      "outputs": []
    },
    {
      "cell_type": "code",
      "source": [
        "class Environment():\n",
        "  def __init__(self,n_arms, probabilities) :\n",
        "    self.n_arms = n_arms\n",
        "    self.probabilities = probabilities \n",
        "\n",
        "  def round(self, pulled_arm) :\n",
        "   reward = np.random.binomial(1,self.probabilities[pulled_arm])      \n",
        "   return reward"
      ],
      "metadata": {
        "id": "ITIkakpx4z8g"
      },
      "execution_count": null,
      "outputs": []
    },
    {
      "cell_type": "code",
      "source": [
        "class TS_Learner(Learner) :\n",
        "  def __init__(self, n_arms):\n",
        "    super().__init__(n_arms)\n",
        "    self.beta_parameters = np.ones((n_arms, 2))\n",
        "\n",
        "  def pull_arm(self) :\n",
        "    idx = np.argmax(np.random.beta(self.beta_parameters[:,0 ], self.beta_parameters[:,1]))   #the expected rewards (our guess) are beta distributions( in the TS learner) (process: we draw an actual reward(aka sample) and based on what we have drawn we position and shape the binomila distribution of the expected reward)\n",
        "    return idx\n",
        "\n",
        "  def update(self, pulled_arm, reward):\n",
        "    self.t+1\n",
        "    self.update_observations(pulled_arm, reward)\n",
        "    self.beta_parameters[pulled_arm, 0] = self.beta_parameters[pulled_arm, 0] + reward\n",
        "    self.beta_parameters[pulled_arm,1] = self.beta_parameters[pulled_arm, 1] + 1.0 - reward"
      ],
      "metadata": {
        "id": "7bClEC0D4zOd"
      },
      "execution_count": null,
      "outputs": []
    },
    {
      "cell_type": "code",
      "source": [
        "n_arms = 4      #these are the prices possible for every product, and are the variables we wish to opimise\n",
        "p = np.array([0.15, 0.1, 0.1, 0.35])      #Bernulli distributions for the reward functions of the arms ( take value 1 with p = 15% etc...) infact we have that the actual reward is a bernully distribution (buy or not)\n",
        "opt = p[3]\n",
        "\n",
        "T = 300\n",
        "\n",
        "n_experiments = 1000\n",
        "ts_rewards_per_experiment = []        #these are the revenues\n"
      ],
      "metadata": {
        "id": "-NNC0brW4zLl"
      },
      "execution_count": null,
      "outputs": []
    },
    {
      "cell_type": "code",
      "source": [
        "for e in range(0, n_experiments):\n",
        "  env = Environment(n_arms = n_arms, probabilities = p)\n",
        "  ts_learner = TS_Learner(n_arms= n_arms)\n",
        "  gr_learner = Greedy_Learner(n_arms = n_arms)\n",
        "  for t in range(0,T):\n",
        "    #Thompson Sampeling Learner\n",
        "    pulled_arm = ts_learner.pull_arm()\n",
        "    reward = env.round(pulled_arm)\n",
        "    ts_learner.update(pulled_arm, reward)\n",
        "\n",
        "\n",
        "  ts_rewards_per_experiment.append( ts_learner.collected_rewards)"
      ],
      "metadata": {
        "colab": {
          "base_uri": "https://localhost:8080/"
        },
        "id": "o1tvoPZ04zI9",
        "outputId": "04917d2d-4b6d-41f2-d31d-cf9ee7ab6eea"
      },
      "execution_count": null,
      "outputs": [
        {
          "output_type": "stream",
          "name": "stderr",
          "text": [
            "/usr/local/lib/python3.7/dist-packages/ipykernel_launcher.py:16: RuntimeWarning: invalid value encountered in double_scalars\n",
            "  app.launch_new_instance()\n",
            "/usr/local/lib/python3.7/dist-packages/ipykernel_launcher.py:16: RuntimeWarning: divide by zero encountered in double_scalars\n",
            "  app.launch_new_instance()\n"
          ]
        }
      ]
    },
    {
      "cell_type": "code",
      "source": [
        "plt.figure(0)\n",
        "plt.ylabel(\"Regret\")\n",
        "plt.xlabel(\"t\")\n",
        "plt.plot(np.cumsum(np.mean(opt - ts_rewards_per_experiment, axis = 0)), 'r')\n",
        "plt.plot(np.cumsum(np.mean(opt - gr_rewards_per_experiment, axis = 0)), 'g')\n",
        "plt.legend([\"TS\", \"Greedy\"])\n",
        "plt.show()"
      ],
      "metadata": {
        "id": "8agePgEm5LW-",
        "colab": {
          "base_uri": "https://localhost:8080/",
          "height": 278
        },
        "outputId": "24d94f47-fb22-4ce2-8b1c-ac9ad1f1656b"
      },
      "execution_count": null,
      "outputs": [
        {
          "output_type": "display_data",
          "data": {
            "text/plain": [
              "<Figure size 432x288 with 1 Axes>"
            ],
            "image/png": "[encoded data removed]"
          },
          "metadata": {
            "needs_background": "light"
          }
        }
      ]
    },
    {
      "cell_type": "code",
      "source": [
        "plt.figure(0)\n",
        "plt.plot(np.mean(ts_rewards_per_experiment, axis=0), 'r')\n",
        "plt.plot(np.mean(swts_rewards_per_experiment, axis=0), 'b')\n",
        "plt.plot(optimum_per_round, 'k--')\n",
        "plt.legend(['TS', 'SW-TS', 'Optimum'])\n",
        "plt.ylabel('Reward')\n",
        "plt.xlabel('t')\n",
        "plt.show()\n",
        "\n",
        "\n",
        "plt.figure(1)\n",
        "plt.plot(np.cumsum(ts_instantaneus_regret), 'r')\n",
        "plt.plot(np.cumsum(swts_instantaneus_regret), 'b')\n",
        "plt.legend(['TS', 'SW-TS', 'Optimum'])\n",
        "plt.ylabel('Regret')\n",
        "plt.xlabel('t')\n",
        "plt.show()"
      ],
      "metadata": {
        "id": "nMxgQEu5C9hY",
        "colab": {
          "base_uri": "https://localhost:8080/",
          "height": 541
        },
        "outputId": "e79ff03c-7855-4949-a681-56f34cf79a92"
      },
      "execution_count": null,
      "outputs": [
        {
          "output_type": "display_data",
          "data": {
            "text/plain": [
              "<Figure size 432x288 with 1 Axes>"
            ],
            "image/png": "[encoded data removed]"
          },
          "metadata": {
            "needs_background": "light"
          }
        },
        {
          "output_type": "display_data",
          "data": {
            "text/plain": [
              "<Figure size 432x288 with 1 Axes>"
            ],
            "image/png": "[encoded data removed]"
          },
          "metadata": {
            "needs_background": "light"
          }
        }
      ]
    }
  ]
}