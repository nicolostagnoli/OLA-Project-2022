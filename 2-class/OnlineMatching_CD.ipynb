{
  "nbformat": 4,
  "nbformat_minor": 0,
  "metadata": {
    "colab": {
      "name": "OnlineMatching-CD",
      "provenance": [],
      "collapsed_sections": []
    },
    "kernelspec": {
      "name": "python3",
      "display_name": "Python 3"
    },
    "language_info": {
      "name": "python"
    }
  },
  "cells": [
    {
      "cell_type": "code",
      "source": [
        "import numpy as np\n",
        "from scipy.optimize import linear_sum_assignment\n",
        "from matplotlib import pyplot as plt\n",
        "from typing import List, Tuple"
      ],
      "metadata": {
        "id": "hG7CUeJb4MCH"
      },
      "execution_count": null,
      "outputs": []
    },
    {
      "cell_type": "markdown",
      "source": [
        "# Base class: Environment"
      ],
      "metadata": {
        "id": "Uo_jGpw7XK28"
      }
    },
    {
      "cell_type": "code",
      "source": [
        "class Environment():\n",
        "    def __init__(self, n_arms, probabilities):\n",
        "        self.n_arms = n_arms\n",
        "        self.probabilities = probabilities\n",
        "\n",
        "    def round(self, pulled_arm):\n",
        "        reward = np.random.binomial(1, self.probabilities[pulled_arm])\n",
        "        return reward"
      ],
      "metadata": {
        "id": "2FGAfPg54Pqj"
      },
      "execution_count": null,
      "outputs": []
    },
    {
      "cell_type": "markdown",
      "source": [
        "# Matching Environment"
      ],
      "metadata": {
        "id": "urU7Dua8XSlt"
      }
    },
    {
      "cell_type": "code",
      "source": [
        "class Matching_Environment(Environment):\n",
        "    def __init__(self, n_arms, probabilities, horizon):\n",
        "        super().__init__(n_arms, probabilities)\n",
        "        self.t = 0\n",
        "\n",
        "    def round(self, pulled_arm):\n",
        "        p = self.probabilities[pulled_arm]\n",
        "        self.t += 1\n",
        "        reward = np.random.binomial(1, p)\n",
        "        return reward"
      ],
      "metadata": {
        "id": "0qZxKi5W5aht"
      },
      "execution_count": null,
      "outputs": []
    },
    {
      "cell_type": "markdown",
      "source": [
        "# Learner Base Class"
      ],
      "metadata": {
        "id": "4KoDUL-uXpT4"
      }
    },
    {
      "cell_type": "code",
      "source": [
        "class Learner:\n",
        "    def __init__(self, n_arms):\n",
        "        self.n_arms = n_arms\n",
        "        self.t = 0\n",
        "        self.rewards_per_arm = [[] for i in range(n_arms)]\n",
        "        self.collected_rewards = np.array([])\n",
        "\n",
        "    def pull_arm(self):\n",
        "        pass\n",
        "\n",
        "    def update_observations(self, pulled_arm, reward):\n",
        "        self.rewards_per_arm[pulled_arm].append(reward)\n",
        "        self.collected_rewards = np.append(self.collected_rewards, reward)"
      ],
      "metadata": {
        "id": "EtDdkpLq4REg"
      },
      "execution_count": null,
      "outputs": []
    },
    {
      "cell_type": "markdown",
      "source": [
        "# UCB Base Class"
      ],
      "metadata": {
        "id": "JbnZtPv7XuOe"
      }
    },
    {
      "cell_type": "code",
      "source": [
        "class UCB(Learner):\n",
        "    def __init__(self, n_arms):\n",
        "        super().__init__(n_arms)\n",
        "        self.empirical_means = np.zeros(n_arms)\n",
        "        self.confidence = np.array([np.inf]*n_arms)\n",
        "\n",
        "    def pull_arm(self):\n",
        "        upper_conf = self.empirical_means + self.confidence\n",
        "        return np.random.choice(np.where(upper_conf == upper_conf.max())[0])\n",
        "\n",
        "    def update(self, pulled_arm, reward):\n",
        "        self.t += 1\n",
        "        self.empirical_means[pulled_arm] = (self.empirical_means[pulled_arm]*(self.t-1) + reward)/self.t\n",
        "        for a in range(self.n_arms):\n",
        "            n_samples = len(self.rewards_per_arm[a])\n",
        "            self.confidence[a] = (2*np.log(self.t)/n_samples)**0.5 if n_samples > 0 else np.inf\n",
        "        self.update_observations(pulled_arm, reward)"
      ],
      "metadata": {
        "id": "FsSYfF-s2HMg"
      },
      "execution_count": null,
      "outputs": []
    },
    {
      "cell_type": "markdown",
      "source": [
        "# UCB Matching Algorithm"
      ],
      "metadata": {
        "id": "MR4wxy_eXxl_"
      }
    },
    {
      "cell_type": "code",
      "source": [
        "class UCB_Matching(UCB):\n",
        "    def __init__(self, n_arms, n_rows, n_cols):\n",
        "        super().__init__(n_arms)\n",
        "        self.n_rows = n_rows\n",
        "        self.n_cols = n_cols\n",
        "        assert n_arms == n_rows * n_cols\n",
        "        self.empirical_means = np.zeros(n_arms)\n",
        "        self.confidence = np.array([np.inf]*n_arms)\n",
        "\n",
        "    def pull_arm(self):\n",
        "        upper_conf = self.empirical_means + self.confidence\n",
        "        upper_conf[np.isinf(upper_conf)] = 1000\n",
        "        # TS -> samples = # draw from beta (on e per arm)\n",
        "        row_ind, col_ind = linear_sum_assignment(-upper_conf.reshape(self.n_rows, self.n_cols))\n",
        "        return (row_ind, col_ind)\n",
        "\n",
        "    def update(self, pulled_arms, rewards):\n",
        "        # TS -> update beta and alphas of the beta distribuitions\n",
        "        self.t += 1\n",
        "        pulled_arms_flat = np.ravel_multi_index(pulled_arms, (self.n_rows, self.n_cols))\n",
        "        for pulled_arm, reward in zip(pulled_arms_flat, rewards):\n",
        "            self.update_observations(pulled_arm, reward)\n",
        "            self.empirical_means[pulled_arm] = (self.empirical_means[pulled_arm]*(self.t-1) + reward)/self.t\n",
        "        for a in range(self.n_arms):\n",
        "            n_samples = len(self.rewards_per_arm[a])\n",
        "            self.confidence[a] = (2*np.log(self.t)/n_samples)**0.5 if n_samples > 0 else np.inf"
      ],
      "metadata": {
        "id": "rdkT2CcErSNB"
      },
      "execution_count": null,
      "outputs": []
    },
    {
      "cell_type": "markdown",
      "source": [
        "# Testing UCB Matching"
      ],
      "metadata": {
        "id": "_jacja2iX7Nm"
      }
    },
    {
      "cell_type": "code",
      "source": [
        "p0 = np.array([[1/4, 1, 1/4], [1/2, 1/4, 1/4], [1/4, 1/4, 1]])\n",
        "T = 3000\n",
        "n_exp = 10\n",
        "regret_ucb = np.zeros((n_exp, T))\n",
        "for j in range(n_exp):\n",
        "    env = Matching_Environment(p0.size, p0, T)\n",
        "    learner_UCB = UCB_Matching(p0.size, *p0.shape)\n",
        "    opt_rew = []\n",
        "    rew_UCB = []\n",
        "    for t in range(T):\n",
        "        p = p0    \n",
        "        opt = linear_sum_assignment(-p)\n",
        "        opt_rew.append(p[opt].sum())\n",
        "        pulled_arm = learner_UCB.pull_arm()\n",
        "        reward = env.round(pulled_arm)\n",
        "        learner_UCB.update(pulled_arm, reward)\n",
        "        rew_UCB.append(reward.sum())\n",
        "\n",
        "    regret_ucb[j, :] = np.cumsum(opt_rew)-np.cumsum(rew_UCB)"
      ],
      "metadata": {
        "id": "L1Xb1swl3nlj"
      },
      "execution_count": null,
      "outputs": []
    },
    {
      "cell_type": "markdown",
      "source": [
        "# Plot"
      ],
      "metadata": {
        "id": "apfm6rBSYDPB"
      }
    },
    {
      "cell_type": "code",
      "source": [
        "mean = np.mean(regret_ucb, axis=0)\n",
        "std = np.std(regret_ucb, axis=0)/np.sqrt(n_exp)\n",
        "plt.figure(0)\n",
        "plt.plot(mean)\n",
        "plt.fill_between(range(len(mean)), mean-std, mean+std, alpha = 0.2)\n",
        "plt.show()"
      ],
      "metadata": {
        "colab": {
          "base_uri": "https://localhost:8080/",
          "height": 265
        },
        "id": "f3YF20oe56CT",
        "outputId": "44837238-0141-44a8-eec2-ce0a02aa6890"
      },
      "execution_count": null,
      "outputs": [
        {
          "output_type": "display_data",
          "data": {
            "text/plain": [
              "<Figure size 432x288 with 1 Axes>"
            ],
            "image/png": "[encoded data removed]"
          },
          "metadata": {
            "needs_background": "light"
          }
        }
      ]
    },
    {
      "cell_type": "markdown",
      "source": [
        "# Non Stationary Matching Environment"
      ],
      "metadata": {
        "id": "-J0DGNIUXX2j"
      }
    },
    {
      "cell_type": "code",
      "source": [
        "class Non_Stationary_Environment(Environment):\n",
        "    def __init__(self, n_arms, probabilities, horizon):\n",
        "        super().__init__(n_arms, probabilities)\n",
        "        self.t = 0\n",
        "        n_phases = len(self.probabilities)\n",
        "        self.phase_size = horizon/n_phases\n",
        "\n",
        "    def round(self, pulled_arm):\n",
        "        current_phase = int(self.t / self.phase_size)\n",
        "        p = self.probabilities[current_phase][pulled_arm]\n",
        "        self.t += 1\n",
        "        reward = np.random.binomial(1, p)\n",
        "        return reward"
      ],
      "metadata": {
        "id": "FmdeaDuSXhQa"
      },
      "execution_count": null,
      "outputs": []
    },
    {
      "cell_type": "markdown",
      "source": [
        "# CUSUM Algorithm"
      ],
      "metadata": {
        "id": "bVbVV7jMYMtp"
      }
    },
    {
      "cell_type": "code",
      "source": [
        "class CUSUM:\n",
        "    def __init__(self, M, eps, h):\n",
        "        \"\"\"\n",
        "        intialize the relevant variables\n",
        "        \"\"\"\n",
        "\n",
        "    def update(self, sample: float) -> bool:\n",
        "        \"\"\"\n",
        "        takes a 1d sample and return True if a detection was flagged\n",
        "        \"\"\"\n",
        "\n",
        "    def reset(self):\n",
        "        \"\"\"\n",
        "        reset all the relevant variables\n",
        "        \"\"\""
      ],
      "metadata": {
        "id": "CsP2T6_9qRo_"
      },
      "execution_count": null,
      "outputs": []
    },
    {
      "cell_type": "code",
      "source": [
        "class CUSUM:\n",
        "    def __init__(self, M, eps, h):\n",
        "        self.M = M\n",
        "        self.eps = eps\n",
        "        self.h = h\n",
        "        self.t = 0\n",
        "        self.reference = 0\n",
        "        self.g_plus = 0\n",
        "        self.g_minus = 0\n",
        "\n",
        "    def update(self, sample):\n",
        "        self.t += 1\n",
        "        if self.t <= self.M:\n",
        "            self.reference += sample/self.M\n",
        "            return False\n",
        "        else:\n",
        "            self.reference = (self.reference*(t-1) + sample)/t\n",
        "            s_plus = (sample - self.reference) - self.eps\n",
        "            s_minus = -(sample - self.reference) - self.eps\n",
        "            self.g_plus = max(0, self.g_plus + s_plus)\n",
        "            self.g_minus = max(0, self.g_minus + s_minus)\n",
        "            return self.g_plus > self.h or self.g_minus > self.h\n",
        "\n",
        "    def reset(self):\n",
        "        self.g_minus = 0\n",
        "        self.g_plus = 0\n",
        "        self.t = 0\n",
        "        self.reference = 0"
      ],
      "metadata": {
        "id": "6JgKV3lWNG02"
      },
      "execution_count": null,
      "outputs": []
    },
    {
      "cell_type": "markdown",
      "source": [
        "# TEST CUSUM"
      ],
      "metadata": {
        "id": "njbeiPcee1EP"
      }
    },
    {
      "cell_type": "code",
      "source": [
        "p0 = 0.6\n",
        "p1 = 0.2\n",
        "\n",
        "eps = 0.03\n",
        "M = 200\n",
        "T = 1000\n",
        "h = np.log(T)*2\n",
        "CD = CUSUM(M, eps, h)\n",
        "S = []\n",
        "n_exp = 100\n",
        "for _ in range(n_exp):\n",
        "    CD.reset()\n",
        "    for t in range(T):\n",
        "        p = p0 if t < 500 else p1\n",
        "        sample = np.random.binomial(1, p)\n",
        "        if CD.update(sample):\n",
        "            S.append(t)\n",
        "            break\n",
        "\n",
        "plt.figure(0)\n",
        "plt.hist(S, bins=20)\n",
        "plt.show()"
      ],
      "metadata": {
        "colab": {
          "base_uri": "https://localhost:8080/",
          "height": 265
        },
        "id": "5kDUs7n1e0KE",
        "outputId": "99283d58-d2f2-4227-b096-39a7e2ad01b9"
      },
      "execution_count": null,
      "outputs": [
        {
          "output_type": "display_data",
          "data": {
            "text/plain": [
              "<Figure size 432x288 with 1 Axes>"
            ],
            "image/png": "[encoded data removed]"
          },
          "metadata": {
            "needs_background": "light"
          }
        }
      ]
    },
    {
      "cell_type": "code",
      "source": [
        "S"
      ],
      "metadata": {
        "colab": {
          "base_uri": "https://localhost:8080/"
        },
        "id": "XQKP87UtK15N",
        "outputId": "e05ec18d-705b-45d6-f214-427e6c815977"
      },
      "execution_count": null,
      "outputs": [
        {
          "output_type": "execute_result",
          "data": {
            "text/plain": [
              "[]"
            ]
          },
          "metadata": {},
          "execution_count": 12
        }
      ]
    },
    {
      "cell_type": "markdown",
      "source": [
        "# CUSUM UCB"
      ],
      "metadata": {
        "id": "F0t1o-DhYUHI"
      }
    },
    {
      "cell_type": "code",
      "source": [
        "class CUSUM_UCB_Matching(UCB_Matching):\n",
        "    def __init__(self, n_arms, n_rows, n_cols, M=100, eps=0.05, h=20, alpha=0.01):\n",
        "        super().__init__(n_arms, n_rows, n_cols)\n",
        "        self.change_detection = [CUSUM(M, eps, h) for _ in range(n_arms)]\n",
        "        self.valid_rewards_per_arm = [[] for _ in range(n_arms)]\n",
        "        self.alpha = alpha\n",
        "        self.detections = []\n",
        "\n",
        "    def pull_arm(self):\n",
        "        if np.random.binomial(1, 1-self.alpha):\n",
        "            upper_conf = self.empirical_means + self.confidence\n",
        "            upper_conf[np.isinf(upper_conf)] = 1000\n",
        "            row_ind, col_ind = linear_sum_assignment(-upper_conf.reshape(self.n_rows, self.n_cols))\n",
        "            return (row_ind, col_ind)\n",
        "        else:\n",
        "            costs_random = np.random.randint(0, 10, size=(self.n_rows, self.n_cols))\n",
        "            return linear_sum_assignment(costs_random)\n",
        "\n",
        "    def update(self, pulled_arms, rewards):\n",
        "        self.t += 1\n",
        "        pulled_arms_flat = np.ravel_multi_index(pulled_arms, (self.n_rows, self.n_cols))\n",
        "        for pulled_arm, reward in zip(pulled_arms_flat, rewards):\n",
        "            if self.change_detection[pulled_arm].update(reward):\n",
        "                self.detections.append(self.t)\n",
        "                self.valid_rewards_per_arm[pulled_arm] = []\n",
        "                self.change_detection[pulled_arm].reset()\n",
        "            self.update_observations(pulled_arm, reward)\n",
        "            self.empirical_means[pulled_arm] = np.mean(self.valid_rewards_per_arm[pulled_arm])\n",
        "        total_valid_samples = sum([len(x) for x in self.valid_rewards_per_arm])\n",
        "        for a in range(self.n_arms):\n",
        "            valid_samples = len(self.valid_rewards_per_arm[a])\n",
        "            self.confidence[a] = (2*np.log(total_valid_samples)/valid_samples)**0.5 if valid_samples > 0 else np.inf\n",
        "\n",
        "    def update_observations(self, pulled_arm, reward):\n",
        "        self.rewards_per_arm[pulled_arm].append(reward)\n",
        "        self.valid_rewards_per_arm[pulled_arm].append(reward)\n",
        "        self.collected_rewards = np.append(self.collected_rewards, reward)"
      ],
      "metadata": {
        "id": "x4rzhBCwYP6d"
      },
      "execution_count": null,
      "outputs": []
    },
    {
      "cell_type": "markdown",
      "source": [
        "# Testing CUSUMUCB"
      ],
      "metadata": {
        "id": "CqSB1sNJYcjl"
      }
    },
    {
      "cell_type": "code",
      "source": [
        "p0 = np.array([[1/4, 1, 1/4], [1/2, 1/4, 1/4], [1/4, 1/4, 1]])\n",
        "p1 = np.array([[1, 1/4, 1/4], [1/2, 1/4, 1/4], [1/4, 1/4, 1]])\n",
        "p2 = np.array([[1, 1/4, 1/4], [1/2, 1, 1/4], [1/4, 1/4, 1]])\n",
        "P = [p0, p1, p2]\n",
        "T = 3000\n",
        "n_exp = 5\n",
        "regret_cusum = np.zeros((n_exp, T))\n",
        "regret_ucb = np.zeros((n_exp, T))\n",
        "detections = [[] for _ in range(n_exp)]\n",
        "M = 100\n",
        "eps = 0.1\n",
        "h = np.log(T)*2\n",
        "for j in range(n_exp):\n",
        "    e_UCB = Non_Stationary_Environment(p0.size, P, T)\n",
        "    e_CD = Non_Stationary_Environment(p0.size, P, T)\n",
        "    learner_CD = CUSUM_UCB_Matching(p0.size, *p0.shape, M, eps, h)\n",
        "    learner_UCB = UCB_Matching(p0.size, *p0.shape)\n",
        "    opt_rew = []\n",
        "    rew_CD = []\n",
        "    rew_UCB = []\n",
        "    for t in range(T):\n",
        "        p = P[int(t / e_UCB.phase_size)]\n",
        "        opt = linear_sum_assignment(-p)\n",
        "        opt_rew.append(p[opt].sum())\n",
        "\n",
        "        pulled_arm = learner_CD.pull_arm()\n",
        "        reward = e_CD.round(pulled_arm)\n",
        "        learner_CD.update(pulled_arm, reward)\n",
        "        rew_CD.append(reward.sum())\n",
        "\n",
        "        pulled_arm = learner_UCB.pull_arm()\n",
        "        reward = e_UCB.round(pulled_arm)\n",
        "        learner_UCB.update(pulled_arm, reward)\n",
        "        rew_UCB.append(reward.sum())\n",
        "\n",
        "    regret_cusum[j, :] = np.cumsum(opt_rew)-np.cumsum(rew_CD)\n",
        "    regret_ucb[j, :] = np.cumsum(opt_rew)-np.cumsum(rew_UCB)\n",
        "mean_regret_cusum = np.mean(regret_cusum, axis=0)\n",
        "mean_regret_ucb = np.mean(regret_ucb, axis=0)\n",
        "std_cusum = np.std(regret_cusum, axis=0)/np.sqrt(n_exp)\n",
        "std_ucb = np.std(regret_ucb, axis=0)/np.sqrt(n_exp)"
      ],
      "metadata": {
        "id": "6siCmBzMYWa1"
      },
      "execution_count": null,
      "outputs": []
    },
    {
      "cell_type": "code",
      "source": [
        "plt.figure(0)\n",
        "plt.plot(mean_regret_cusum)\n",
        "plt.fill_between(range(len(mean_regret_cusum)), mean_regret_cusum-std_cusum, mean_regret_cusum+std_cusum, alpha = 0.2)\n",
        "plt.plot(mean_regret_ucb)\n",
        "plt.fill_between(range(len(mean_regret_ucb)), mean_regret_ucb-std_ucb, mean_regret_ucb+std_ucb, alpha = 0.2)\n",
        "plt.legend(['cusum', 'ucb'])\n",
        "plt.show()"
      ],
      "metadata": {
        "colab": {
          "base_uri": "https://localhost:8080/",
          "height": 265
        },
        "id": "VKDjImMZYjOW",
        "outputId": "419ecaba-f68f-4d9e-c9db-009c8ef9c604"
      },
      "execution_count": null,
      "outputs": [
        {
          "output_type": "display_data",
          "data": {
            "text/plain": [
              "<Figure size 432x288 with 1 Axes>"
            ],
            "image/png": "[encoded data removed]"
          },
          "metadata": {
            "needs_background": "light"
          }
        }
      ]
    },
    {
      "cell_type": "code",
      "source": [
        "pulled_arm"
      ],
      "metadata": {
        "id": "4mTmOlhSZOzQ"
      },
      "execution_count": null,
      "outputs": []
    },
    {
      "cell_type": "code",
      "source": [
        ""
      ],
      "metadata": {
        "id": "Xnlmy3FMhKP3"
      },
      "execution_count": null,
      "outputs": []
    }
  ]
}